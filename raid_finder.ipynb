{
  "nbformat": 4,
  "nbformat_minor": 0,
  "metadata": {
    "colab": {
      "name": "raid-finder.ipynb",
      "version": "0.3.2",
      "provenance": [],
      "collapsed_sections": [],
      "include_colab_link": true
    },
    "kernelspec": {
      "name": "python3",
      "display_name": "Python 3"
    }
  },
  "cells": [
    {
      "cell_type": "markdown",
      "metadata": {
        "id": "view-in-github",
        "colab_type": "text"
      },
      "source": [
        "<a href=\"https://colab.research.google.com/github/yhong3/3d-missile-command/blob/master/raid_finder.ipynb\" target=\"_parent\"><img src=\"https://colab.research.google.com/assets/colab-badge.svg\" alt=\"Open In Colab\"/></a>"
      ]
    },
    {
      "cell_type": "code",
      "metadata": {
        "id": "lrHLHcxq2MKq",
        "colab_type": "code",
        "colab": {}
      },
      "source": [
        "text = \"\"\"C3PZ5GJSYVNS\n",
        "「漆王バグー」を発見しました！\n",
        "共襲イベントで上記のコードを入力して共に戦いましょう！\n",
        "\n",
        "「ブネ、法螺貝吹く真似頼めるか」\n",
        "\n",
        "「仕方ねぇな……ぶぉぉぉ〜！」\"\"\"\n",
        "\n",
        "text1 = \"\"\"もしも上司を名乗る人がやってきたら怖くて泣いてしまう……😭😭\n",
        "\n",
        "LUV9UY54ANR\n",
        "「灘王アトラロック」を発見しました！\n",
        "共襲イベントで上記のコードを入力して共に戦いましょう！\"\"\"\n",
        "\n",
        "\n",
        "text3 = \"\"\"3L586BSS8AQG\n",
        "「怪王ジェラスモス」を発見しました！\n",
        "共襲イベントで上記のコードを入力して共に戦いましょう！\n",
        "\n",
        "たすけてーーー！！！！\"\"\""
      ],
      "execution_count": 0,
      "outputs": []
    },
    {
      "cell_type": "code",
      "metadata": {
        "id": "OBfw1O93qxSa",
        "colab_type": "code",
        "colab": {
          "base_uri": "https://localhost:8080/",
          "height": 69
        },
        "outputId": "3e1abda6-f90b-442a-e978-26b68f81d43f"
      },
      "source": [
        "monsters = ['漆王バグー', '蝙王ピグソッソ', '灘王アトラロック', '怪王ジェラスモス']\n",
        "keyword = \"共襲イベントで上記のコードを入力して共に戦いましょう！\"\n",
        "\n",
        "text = text.split('\\n')\n",
        "found_index = -1\n",
        "for idx, val in enumerate(text):\n",
        "  print(idx, \" \", val)\n",
        "  found = val.find('を発見しました')\n",
        "  #print(val)\n",
        "  if (found != -1):\n",
        "    #print(found)\n",
        "    found_index = idx\n",
        "    break\n",
        "\n",
        "invite_code = text[found_index-1]\n",
        "print(invite_code)\n",
        "text.pop()\n",
        "  \n",
        "  \n",
        "  "
      ],
      "execution_count": 41,
      "outputs": [
        {
          "output_type": "stream",
          "text": [
            "0   C3PZ5GJSYVNS\n",
            "1   「漆王バグー」を発見しました！\n",
            "C3PZ5GJSYVNS\n"
          ],
          "name": "stdout"
        }
      ]
    },
    {
      "cell_type": "code",
      "metadata": {
        "id": "w3zgfCYLvok7",
        "colab_type": "code",
        "colab": {}
      },
      "source": [
        "keyword = \"共襲イベントで上記のコードを入力して共に戦いましょう！\"\n",
        "\n",
        "text = ['3L586BSS8AQG',\n",
        " '「怪王ジェラスモス」を発見しました！',\n",
        " '共襲イベントで上記のコードを入力して共に戦いましょう！',\n",
        " '',\n",
        " 'たすけてーーー！！！！']\n",
        "\n",
        "\n",
        "#for txt in text:\n",
        "#  \n",
        "#  found = txt.find(\"を発見しました\")\n",
        "#  if (found != -1):\n",
        "#    print(found)\n",
        "\n",
        "#text.find(\"を発見しまた\")"
      ],
      "execution_count": 0,
      "outputs": []
    }
  ]
}